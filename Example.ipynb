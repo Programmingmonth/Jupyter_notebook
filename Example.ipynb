{
 "cells": [
  {
   "cell_type": "markdown",
   "id": "5e34a294-d02b-4bb1-b056-556d5b512669",
   "metadata": {},
   "source": [
    "# Jupyter Notebook Example\n",
    "## Subtitle\n",
    "This is an example notebook.\n",
    "\n",
    "1. This is item 1\n",
    "2. Next is item 2\n",
    "3. and then three"
   ]
  },
  {
   "cell_type": "code",
   "execution_count": 1,
   "id": "ae7347dd-0f78-4ef2-97c8-c1707db1747e",
   "metadata": {},
   "outputs": [
    {
     "name": "stdout",
     "output_type": "stream",
     "text": [
      "Hello, World!\n"
     ]
    }
   ],
   "source": [
    "print(\"Hello, World!\")"
   ]
  },
  {
   "cell_type": "code",
   "execution_count": 2,
   "id": "8a1d7a2e-ed71-478e-b079-1877c9aed47a",
   "metadata": {},
   "outputs": [
    {
     "name": "stdin",
     "output_type": "stream",
     "text": [
      "what is your name?  amirreza\n"
     ]
    },
    {
     "name": "stdout",
     "output_type": "stream",
     "text": [
      "Hello, amirreza\n"
     ]
    }
   ],
   "source": [
    "name = input(\"what is your name? \")\n",
    "print(\"Hello,\", name)"
   ]
  },
  {
   "cell_type": "code",
   "execution_count": null,
   "id": "c6a476ad-4c4d-496c-a63c-05c3d89211b3",
   "metadata": {},
   "outputs": [],
   "source": []
  }
 ],
 "metadata": {
  "kernelspec": {
   "display_name": "Python 3 (ipykernel)",
   "language": "python",
   "name": "python3"
  },
  "language_info": {
   "codemirror_mode": {
    "name": "ipython",
    "version": 3
   },
   "file_extension": ".py",
   "mimetype": "text/x-python",
   "name": "python",
   "nbconvert_exporter": "python",
   "pygments_lexer": "ipython3",
   "version": "3.11.5"
  }
 },
 "nbformat": 4,
 "nbformat_minor": 5
}
