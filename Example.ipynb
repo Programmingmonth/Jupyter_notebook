{
 "cells": [
  {
   "cell_type": "markdown",
   "id": "25065afe-fa67-45d8-b002-76c46342f5eb",
   "metadata": {},
   "source": [
    "# Jupyer Notebook Example\n",
    "## Subtitle\n",
    "This is an example notebook.\n",
    "\n",
    "1. This is item 1\n",
    "2. Next is item 2\n",
    "3. and then there"
   ]
  },
  {
   "cell_type": "code",
   "execution_count": 1,
   "id": "568f6fbd-3370-442b-9b0e-88500c99dee9",
   "metadata": {},
   "outputs": [
    {
     "name": "stdout",
     "output_type": "stream",
     "text": [
      "Hello, World!\n"
     ]
    }
   ],
   "source": [
    "print(\"Hello, World!\")"
   ]
  },
  {
   "cell_type": "code",
   "execution_count": 3,
   "id": "8ebe3c2f-61aa-48f2-af70-eb784908fb8e",
   "metadata": {},
   "outputs": [
    {
     "name": "stdout",
     "output_type": "stream",
     "text": [
      "Hello, amirreza\n"
     ]
    }
   ],
   "source": [
    "name = input(\"what is your name? \")\n",
    "print(\"Hello,\", name)"
   ]
  },
  {
   "cell_type": "code",
   "execution_count": null,
   "id": "36d460a1-e6ea-4b9f-85c7-5c2249d4827a",
   "metadata": {},
   "outputs": [],
   "source": []
  }
 ],
 "metadata": {
  "kernelspec": {
   "display_name": "Python 3 (ipykernel)",
   "language": "python",
   "name": "python3"
  },
  "language_info": {
   "codemirror_mode": {
    "name": "ipython",
    "version": 3
   },
   "file_extension": ".py",
   "mimetype": "text/x-python",
   "name": "python",
   "nbconvert_exporter": "python",
   "pygments_lexer": "ipython3",
   "version": "3.11.8"
  }
 },
 "nbformat": 4,
 "nbformat_minor": 5
}
